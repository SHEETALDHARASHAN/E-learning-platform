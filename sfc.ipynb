{
  "nbformat": 4,
  "nbformat_minor": 0,
  "metadata": {
    "colab": {
      "provenance": [],
      "mount_file_id": "1fqpADgKeXctJFs-c1yjkmkZBrWOSQSAu",
      "authorship_tag": "ABX9TyPCxVZUItO6QRhmHwKP0/tD",
      "include_colab_link": true
    },
    "kernelspec": {
      "name": "python3",
      "display_name": "Python 3"
    },
    "language_info": {
      "name": "python"
    }
  },
  "cells": [
    {
      "cell_type": "markdown",
      "metadata": {
        "id": "view-in-github",
        "colab_type": "text"
      },
      "source": [
        "<a href=\"https://colab.research.google.com/github/SHEETALDHARASHAN/E-learning-platform/blob/main/sfc.ipynb\" target=\"_parent\"><img src=\"https://colab.research.google.com/assets/colab-badge.svg\" alt=\"Open In Colab\"/></a>"
      ]
    },
    {
      "cell_type": "code",
      "source": [
        "import pandas as pd\n",
        "\n",
        "# Load the dataset into pandas DataFrames\n",
        "train_df = pd.read_csv('train.csv')\n",
        "stores_df = pd.read_csv('stores.csv')\n",
        "transactions_df = pd.read_csv('transactions.csv')\n",
        "\n",
        "# Display the first few rows of each DataFrame\n",
        "print(train_df.head())\n",
        "print(stores_df.head())\n",
        "print(transactions_df.head())\n",
        "# Merge dataframes as necessary\n",
        "merged_df = pd.merge(train_df, stores_df, on='store_nbr')\n",
        "merged_df = pd.merge(merged_df, transactions_df, on=['date', 'store_nbr'])\n",
        "\n",
        "# Feature Engineering: Add seasonal and promotional features\n",
        "merged_df['date'] = pd.to_datetime(merged_df['date'])\n",
        "merged_df['month'] = merged_df['date'].dt.month\n",
        "merged_df['day'] = merged_df['date'].dt.day\n",
        "merged_df['year'] = merged_df['date'].dt.year\n",
        "\n",
        "# Display the merged dataframe\n",
        "print(merged_df.head())\n",
        "from sklearn.model_selection import train_test_split\n",
        "from sklearn.ensemble import RandomForestRegressor\n",
        "from sklearn.metrics import mean_absolute_error\n",
        "\n",
        "# Define features and target\n",
        "features = merged_df[['store_nbr', 'family', 'month', 'day', 'year', 'onpromotion', 'transactions']]\n",
        "target = merged_df['sales']\n",
        "\n",
        "# Encode categorical features\n",
        "features = pd.get_dummies(features, columns=['family'])\n",
        "\n",
        "# Split the data\n",
        "X_train, X_test, y_train, y_test = train_test_split(features, target, test_size=0.2, random_state=42)\n",
        "\n",
        "# Train the model\n",
        "model = RandomForestRegressor(n_estimators=100, random_state=42)\n",
        "model.fit(X_train, y_train)\n",
        "\n",
        "# Make predictions\n",
        "predictions = model.predict(X_test)\n",
        "\n",
        "# Evaluate the model\n",
        "mae = mean_absolute_error(y_test, predictions)\n",
        "print(f'Mean Absolute Error: {mae}')\n"
      ],
      "metadata": {
        "colab": {
          "base_uri": "https://localhost:8080/"
        },
        "id": "TYQAVJunXZgp",
        "outputId": "e53c59c2-b703-4e6d-c461-439c83b64a2c"
      },
      "execution_count": null,
      "outputs": [
        {
          "output_type": "stream",
          "name": "stdout",
          "text": [
            "   id        date  store_nbr      family  sales  onpromotion\n",
            "0   0  2013-01-01        1.0  AUTOMOTIVE    0.0          0.0\n",
            "1   1  2013-01-01        1.0   BABY CARE    0.0          0.0\n",
            "2   2  2013-01-01        1.0      BEAUTY    0.0          0.0\n",
            "3   3  2013-01-01        1.0   BEVERAGES    0.0          0.0\n",
            "4   4  2013-01-01        1.0       BOOKS    0.0          0.0\n",
            "   store_nbr           city                           state type  cluster\n",
            "0          1          Quito                       Pichincha    D       13\n",
            "1          2          Quito                       Pichincha    D       13\n",
            "2          3          Quito                       Pichincha    D        8\n",
            "3          4          Quito                       Pichincha    D        9\n",
            "4          5  Santo Domingo  Santo Domingo de los Tsachilas    D        4\n",
            "         date  store_nbr  transactions\n",
            "0  2013-01-01         25           770\n",
            "1  2013-01-02          1          2111\n",
            "2  2013-01-02          2          2358\n",
            "3  2013-01-02          3          3487\n",
            "4  2013-01-02          4          1922\n",
            "     id       date  store_nbr      family   sales  onpromotion   city  \\\n",
            "0  1782 2013-01-02        1.0  AUTOMOTIVE     2.0          0.0  Quito   \n",
            "1  1783 2013-01-02        1.0   BABY CARE     0.0          0.0  Quito   \n",
            "2  1784 2013-01-02        1.0      BEAUTY     2.0          0.0  Quito   \n",
            "3  1785 2013-01-02        1.0   BEVERAGES  1091.0          0.0  Quito   \n",
            "4  1786 2013-01-02        1.0       BOOKS     0.0          0.0  Quito   \n",
            "\n",
            "       state type  cluster  transactions  month  day  year  \n",
            "0  Pichincha    D       13          2111      1    2  2013  \n",
            "1  Pichincha    D       13          2111      1    2  2013  \n",
            "2  Pichincha    D       13          2111      1    2  2013  \n",
            "3  Pichincha    D       13          2111      1    2  2013  \n",
            "4  Pichincha    D       13          2111      1    2  2013  \n",
            "Mean Absolute Error: 36.62097657135534\n"
          ]
        }
      ]
    },
    {
      "cell_type": "code",
      "source": [
        "def recommend_products(store_nbr, month, day, year, onpromotion, transactions):\n",
        "    input_data = {\n",
        "        'store_nbr': [store_nbr],\n",
        "        'month': [month],\n",
        "        'day': [day],\n",
        "        'year': [year],\n",
        "        'onpromotion': [onpromotion],\n",
        "        'transactions': [transactions]\n",
        "    }\n",
        "\n",
        "    # Create a dataframe for the input data\n",
        "    input_df = pd.DataFrame(input_data)\n",
        "\n",
        "    # Get all unique product families from the original data\n",
        "    product_families = merged_df['family'].unique()\n",
        "\n",
        "    # Create rows for each product family\n",
        "    all_families_df = pd.concat([input_df] * len(product_families), ignore_index=True)\n",
        "    all_families_df['family'] = product_families\n",
        "\n",
        "    # One-hot encode the family column\n",
        "    all_families_df = pd.get_dummies(all_families_df, columns=['family'])\n",
        "\n",
        "    # Ensure all columns present in the training set are in the input data\n",
        "    for col in features.columns:\n",
        "        if col not in all_families_df.columns:\n",
        "            all_families_df[col] = 0\n",
        "\n",
        "    # Predict sales for each product family\n",
        "    predicted_sales = model.predict(all_families_df)\n",
        "\n",
        "    # Create a dataframe to hold product family and their predicted sales\n",
        "    results_df = pd.DataFrame({\n",
        "        'family': product_families,\n",
        "        'predicted_sales': predicted_sales\n",
        "    })\n",
        "\n",
        "    # Calculate the total predicted sales\n",
        "    total_predicted_sales = results_df['predicted_sales'].sum()\n",
        "\n",
        "    # Calculate the percentage of predicted sales for each product family\n",
        "    results_df['percentage'] = (results_df['predicted_sales'] / total_predicted_sales) * 100\n",
        "\n",
        "    # Sort the results by predicted sales in descending order\n",
        "    results_df = results_df.sort_values(by='predicted_sales', ascending=False)\n",
        "\n",
        "    # Return the dataframe with recommended products and their percentages\n",
        "    return results_df\n",
        "\n",
        "# Example usage:\n",
        "store_nbr = 1\n",
        "month = 12\n",
        "day = 1\n",
        "year = 2024\n",
        "onpromotion = 0\n",
        "transactions = 1000\n",
        "\n",
        "recommended_products = recommend_products(store_nbr, month, day, year, onpromotion, transactions)\n",
        "print(recommended_products.head())"
      ],
      "metadata": {
        "id": "sWfj3I7jbAHQ",
        "outputId": "d326e785-bdcc-4c06-87e5-51f810c50eb3",
        "colab": {
          "base_uri": "https://localhost:8080/"
        }
      },
      "execution_count": null,
      "outputs": [
        {
          "output_type": "stream",
          "name": "stdout",
          "text": [
            "          family  predicted_sales  percentage\n",
            "12     GROCERY I       2329.65529   44.242286\n",
            "7       CLEANING        669.61000   12.716507\n",
            "3      BEVERAGES        604.82000   11.486085\n",
            "8          DAIRY        326.93000    6.208700\n",
            "5   BREAD/BAKERY        231.47767    4.395973\n"
          ]
        }
      ]
    }
  ]
}